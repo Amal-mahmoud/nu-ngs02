{
 "cells": [
  {
   "cell_type": "markdown",
   "metadata": {},
   "source": [
    "<h1 style=\"color:purple\"  align=\"center\"><b><u>kProcessor Tutorial</u></b></h1>"
   ]
  },
  {
   "cell_type": "markdown",
   "metadata": {},
   "source": [
    "### Import kprocessor python package"
   ]
  },
  {
   "cell_type": "code",
   "execution_count": 1,
   "metadata": {},
   "outputs": [],
   "source": [
    "import kProcessor as kp"
   ]
  },
  {
   "cell_type": "markdown",
   "metadata": {},
   "source": [
    "### Import random library to generate random numbers"
   ]
  },
  {
   "cell_type": "code",
   "execution_count": 2,
   "metadata": {},
   "outputs": [],
   "source": [
    "from random import randint"
   ]
  },
  {
   "cell_type": "markdown",
   "metadata": {},
   "source": [
    "<h2><u>kDataFrame Class</u></h2>"
   ]
  },
  {
   "cell_type": "markdown",
   "metadata": {},
   "source": [
    "<h2> kDataFrame class holds kmers with their features and manipulation functions</h2>\n",
    "<hr>\n",
    "<h3><b><u>kDataFrame Functions</u></b></h3>\n",
    "<ul>\n",
    "\n",
    "<li><b>kDataFrame.insert(kmer): </b>Insert a kmer</li>\n",
    "<li><b>kDataFrame.insert(kmer, count): </b>Insert a kmer with it's count</li>\n",
    "\n",
    "<li><b>kDataFrame.setCount(kmer, count): </b>set the kmer count</li>\n",
    "<li><b>kDataFrame.count(kmer): </b>returns the kmer count (number of times that kmer was inserted)</li>\n",
    "\n",
    "<li><b>kDataFrame.erase(kmer): </b>remove a kmer from the kDataFrame</li>\n",
    "<li><b>kDataFrame.size(): </b>returns the number of kmers in the kDataFrame</li>\n",
    "\n",
    "<li><b>kDataFrame.max_size(): </b>returns the maximum number of kmers that the kDataframe can hold.</li>\n",
    "<li><b>kDataFrame.save(): </b>Save the kDataFrame on disk.</li>\n",
    "<li><b>kDataFrame.load(): </b>Load the kDataFrame From disk.</li>\n",
    "\n",
    "\n",
    "</ul>\n",
    "\n",
    "<hr style=\"height:1px;\">\n",
    "\n",
    "<h3><b><u>kDataFrameIterator Functions</u></b></h3>\n",
    "\n",
    "<ul>\n",
    "\n",
    "<li><b>kDataFrameIterator.begin(): </b>Return the first position of a kDataFrame object</li>\n",
    "<li><b>kDataFrameIterator.end(): </b>Return the last position of a kDataFrame object</li>\n",
    "<li><b>kDataFrameIterator.next(): </b>Increment the iterator position by one</li>\n",
    "<li><b>kDataFrameIterator.getKmer(): </b>Return the kmer at the current iterator position</li>\n",
    "<li><b>kDataFrameIterator.getKmerCount(): </b>Return the kmer count at the current iterator position</li>\n",
    "<li><b>kDataFrameIterator.setKmerCount(): </b>Set the kmer count at the current iterator position</li>\n",
    "\n",
    "</ul>\n",
    "\n",
    "<hr style=\"height:1px;\">\n",
    "    \n",
    "<h3><b><u>Other Functions</u></b></h3>\n",
    "\n",
    "<ul>\n",
    "\n",
    "<li><b>parseSequences(fastq_file, no_threads, kDataFrame): </b>Parse the fastq and insert the kmers in the kDataFrame</li>\n",
    "\n",
    "<ul>"
   ]
  },
  {
   "cell_type": "markdown",
   "metadata": {},
   "source": [
    "<h2  align=\"center\"> Example 1 (kDataFrame Manipulation) <h2>\n",
    "<hr>\n",
    "<h3><b>Description</b></h3>\n",
    "<ol>\n",
    "    <li> Create kDataFrame with kmerSize = 21 </li> \n",
    "    <li> Insert some random kmers with random counts </li>\n",
    "    <li> Query by each kmer and check the count </li>\n",
    "    <li> Insert a pre-exist kmer and check it's count </li>\n",
    "<ol>"
   ]
  },
  {
   "cell_type": "markdown",
   "metadata": {},
   "source": [
    "### Kmers List"
   ]
  },
  {
   "cell_type": "code",
   "execution_count": 3,
   "metadata": {},
   "outputs": [],
   "source": [
    "kmers = [\"CTGACTACTCAGAGCTAGCCT\", \"CGTAACCTATGCTAGCTAGAT\"]"
   ]
  },
  {
   "cell_type": "markdown",
   "metadata": {},
   "source": [
    "### Instantiate an object from the class kDataFrameMQF\n"
   ]
  },
  {
   "cell_type": "code",
   "execution_count": 4,
   "metadata": {},
   "outputs": [],
   "source": [
    "kf = kp.kDataFrameMQF(21) # Empty kDataFrame"
   ]
  },
  {
   "cell_type": "markdown",
   "metadata": {},
   "source": [
    "### Print the size of the kDataFrame"
   ]
  },
  {
   "cell_type": "code",
   "execution_count": 5,
   "metadata": {},
   "outputs": [
    {
     "name": "stdout",
     "output_type": "stream",
     "text": [
      "kf size: 0\n"
     ]
    }
   ],
   "source": [
    "print(\"kf size: %d\" % kf.size())"
   ]
  },
  {
   "cell_type": "markdown",
   "metadata": {},
   "source": [
    "### Insert the first kmer and set count to 1 & the second kmer with count 10 "
   ]
  },
  {
   "cell_type": "code",
   "execution_count": 6,
   "metadata": {},
   "outputs": [
    {
     "name": "stdout",
     "output_type": "stream",
     "text": [
      "Inserting 2 kmers\n"
     ]
    },
    {
     "data": {
      "text/plain": [
       "True"
      ]
     },
     "execution_count": 6,
     "metadata": {},
     "output_type": "execute_result"
    }
   ],
   "source": [
    "print(\"Inserting 2 kmers\")\n",
    "kf.insert(kmers[0], 1)\n",
    "kf.insert(kmers[1], 10)"
   ]
  },
  {
   "cell_type": "markdown",
   "metadata": {},
   "source": [
    "### Print the size of the kDataFrame & counts of kmer1 and kmer2"
   ]
  },
  {
   "cell_type": "code",
   "execution_count": 7,
   "metadata": {
    "scrolled": true
   },
   "outputs": [
    {
     "name": "stdout",
     "output_type": "stream",
     "text": [
      "kf size: 2\n",
      "Kmer1 Count: 1\n",
      "Kmer2 Count: 10\n"
     ]
    }
   ],
   "source": [
    "print(\"kf size: %d\" % kf.size())\n",
    "# Print the first kmer count \n",
    "print(\"Kmer1 Count: %d\" % kf.count(kmers[0]))\n",
    "print(\"Kmer2 Count: %d\" % kf.count(kmers[1]))"
   ]
  },
  {
   "cell_type": "markdown",
   "metadata": {},
   "source": [
    "### Insert a duplicate kmer without count"
   ]
  },
  {
   "cell_type": "code",
   "execution_count": 8,
   "metadata": {},
   "outputs": [
    {
     "name": "stdout",
     "output_type": "stream",
     "text": [
      "[*] Inserting kmer 1 again\n"
     ]
    },
    {
     "data": {
      "text/plain": [
       "True"
      ]
     },
     "execution_count": 8,
     "metadata": {},
     "output_type": "execute_result"
    }
   ],
   "source": [
    "print(\"[*] Inserting kmer 1 again\")\n",
    "kf.insert(kmers[0])"
   ]
  },
  {
   "cell_type": "markdown",
   "metadata": {},
   "source": [
    "### Print the first kmer count again"
   ]
  },
  {
   "cell_type": "code",
   "execution_count": 9,
   "metadata": {
    "scrolled": true
   },
   "outputs": [
    {
     "name": "stdout",
     "output_type": "stream",
     "text": [
      "Kmer1 Count: 2\n"
     ]
    }
   ],
   "source": [
    "print(\"Kmer1 Count: %d\" % kf.count(kmers[0]))"
   ]
  },
  {
   "cell_type": "markdown",
   "metadata": {},
   "source": [
    "### Erase kmer1 from the kDataFrame"
   ]
  },
  {
   "cell_type": "code",
   "execution_count": 10,
   "metadata": {},
   "outputs": [
    {
     "name": "stdout",
     "output_type": "stream",
     "text": [
      "[*] Erasing kmer1\n"
     ]
    },
    {
     "data": {
      "text/plain": [
       "True"
      ]
     },
     "execution_count": 10,
     "metadata": {},
     "output_type": "execute_result"
    }
   ],
   "source": [
    "print(\"[*] Erasing kmer1\")\n",
    "kf.erase(kmers[0])"
   ]
  },
  {
   "cell_type": "markdown",
   "metadata": {},
   "source": [
    "### Print the first kmer count again and the kDataframe Size"
   ]
  },
  {
   "cell_type": "code",
   "execution_count": 11,
   "metadata": {
    "scrolled": true
   },
   "outputs": [
    {
     "name": "stdout",
     "output_type": "stream",
     "text": [
      "Kmer1 Count: 0\n",
      "kf size: 1\n"
     ]
    }
   ],
   "source": [
    "print(\"Kmer1 Count: %d\" % kf.count(kmers[0]))\n",
    "print(\"kf size: %d\" % kf.size())"
   ]
  },
  {
   "cell_type": "markdown",
   "metadata": {},
   "source": [
    "<hr style=\"height:5px\">"
   ]
  },
  {
   "cell_type": "markdown",
   "metadata": {},
   "source": [
    "<h2  align=\"center\"> Example 2 (Itaration on kDataFrame kmers) </h2>\n",
    "<hr>\n",
    "<h3><b>Description</b></h3>\n",
    "<ol>\n",
    "    <li> Create kDataFrame with kmerSize = 21 </li> \n",
    "    <li> Insert some random kmers with random counts </li>\n",
    "    <li> Iterate over kDataFrames kmers and print Kmer and Count </li>\n",
    "    <li> Save the result in dictionary </li>\n",
    "<ol>"
   ]
  },
  {
   "cell_type": "markdown",
   "metadata": {},
   "source": [
    "## Create kmers list with 4 kmers"
   ]
  },
  {
   "cell_type": "code",
   "execution_count": 12,
   "metadata": {},
   "outputs": [],
   "source": [
    "kmers = [\"ATCATACTGATCGATCGATGC\", \"CGTAACCTATGCTAGCTAGAT\", \"CTGACTACTCAGAGCTAGCCT\",\"CAATCGCTGATACGATACGTA\"]"
   ]
  },
  {
   "cell_type": "markdown",
   "metadata": {},
   "source": [
    "## Create an empty kDataFrame"
   ]
  },
  {
   "cell_type": "code",
   "execution_count": 13,
   "metadata": {},
   "outputs": [],
   "source": [
    "kf2 = kp.kDataFrameMQF(21)"
   ]
  },
  {
   "cell_type": "markdown",
   "metadata": {},
   "source": [
    "### Insert all kmers using a for loop"
   ]
  },
  {
   "cell_type": "code",
   "execution_count": 14,
   "metadata": {
    "scrolled": true
   },
   "outputs": [
    {
     "name": "stdout",
     "output_type": "stream",
     "text": [
      "Inserting kmer: ATCATACTGATCGATCGATGC with count 40\n",
      "Inserting kmer: CGTAACCTATGCTAGCTAGAT with count 21\n",
      "Inserting kmer: CTGACTACTCAGAGCTAGCCT with count 1\n",
      "Inserting kmer: CAATCGCTGATACGATACGTA with count 99\n"
     ]
    }
   ],
   "source": [
    "for kmer in kmers:\n",
    "    random_count = randint(1,100) # generate random count between 1 and 100\n",
    "    print(\"Inserting kmer: %s with count %d\" % (kmer, random_count))\n",
    "    kf2.insert(kmer, random_count)"
   ]
  },
  {
   "cell_type": "markdown",
   "metadata": {},
   "source": [
    "### Iterate over all kmers and print their count and save them in a dictionary"
   ]
  },
  {
   "cell_type": "code",
   "execution_count": 15,
   "metadata": {},
   "outputs": [
    {
     "name": "stdout",
     "output_type": "stream",
     "text": [
      "retrieved kmer: CTGACTACTCAGAGCTAGCCT with count: 1\n",
      "retrieved kmer: CGTAACCTATGCTAGCTAGAT with count: 21\n",
      "retrieved kmer: ATCATACTGATCGATCGATGC with count: 40\n",
      "retrieved kmer: CAATCGCTGATACGATACGTA with count: 99\n"
     ]
    }
   ],
   "source": [
    "# Create empty dictionary\n",
    "kf2_data = {}\n",
    "\n",
    "# create iterator with the first position in the kDataFrame\n",
    "it = kf2.begin()\n",
    "\n",
    "while(it != kf2.end()):\n",
    "    \n",
    "    # Get the kmer string\n",
    "    kmer = it.getKmer()\n",
    "    \n",
    "    # Get the kmer count\n",
    "    count = it.getKmerCount()\n",
    "    \n",
    "    # Print the data\n",
    "    print(\"retrieved kmer: %s with count: %d\" % (kmer, count))\n",
    "    \n",
    "    # Save data in a dictionary\n",
    "    kf2_data[kmer] = count\n",
    "    \n",
    "    it.next() # Extremely Important!"
   ]
  },
  {
   "cell_type": "markdown",
   "metadata": {},
   "source": [
    "### Dump the dictionary data"
   ]
  },
  {
   "cell_type": "code",
   "execution_count": 16,
   "metadata": {},
   "outputs": [
    {
     "data": {
      "text/plain": [
       "{'CTGACTACTCAGAGCTAGCCT': 1,\n",
       " 'CGTAACCTATGCTAGCTAGAT': 21,\n",
       " 'ATCATACTGATCGATCGATGC': 40,\n",
       " 'CAATCGCTGATACGATACGTA': 99}"
      ]
     },
     "execution_count": 16,
     "metadata": {},
     "output_type": "execute_result"
    }
   ],
   "source": [
    "kf2_data"
   ]
  },
  {
   "cell_type": "markdown",
   "metadata": {},
   "source": [
    "<h2  align=\"center\"> Example 3 (Create a kDataFrame from a fastq file) </h2>\n",
    "<hr>\n",
    "<h3><b>Description</b></h3>\n",
    "<ol>\n",
    "    <li> Create an empty kDataFrame with kmerSize = 21 </li> \n",
    "    <li> Load a fasta file into a kDataFrame</li>\n",
    "    <li> Save the kDataFrame on disk </li>\n",
    "<ol>"
   ]
  },
  {
   "cell_type": "markdown",
   "metadata": {},
   "source": [
    "### Create an empty kDataFrame"
   ]
  },
  {
   "cell_type": "code",
   "execution_count": 17,
   "metadata": {},
   "outputs": [],
   "source": [
    "kf3 = kp.kDataFrameMQF(21)"
   ]
  },
  {
   "cell_type": "markdown",
   "metadata": {},
   "source": [
    "### Parse the fastq file into the kf3 kDataFrame"
   ]
  },
  {
   "cell_type": "code",
   "execution_count": 18,
   "metadata": {},
   "outputs": [],
   "source": [
    "kp.parseSequences(\"data/test.fastq\", 1, kf3)"
   ]
  },
  {
   "cell_type": "markdown",
   "metadata": {},
   "source": [
    "### Print the kDataFrame3 size and the kmer size used in it"
   ]
  },
  {
   "cell_type": "code",
   "execution_count": 21,
   "metadata": {},
   "outputs": [
    {
     "name": "stdout",
     "output_type": "stream",
     "text": [
      "14481\n",
      "21\n"
     ]
    }
   ],
   "source": [
    "print(kf3.size())\n",
    "print(kf3.getkSize())"
   ]
  },
  {
   "cell_type": "markdown",
   "metadata": {},
   "source": [
    "### Save the kDataFrame on disk with a name \"kf3\""
   ]
  },
  {
   "cell_type": "code",
   "execution_count": 20,
   "metadata": {},
   "outputs": [],
   "source": [
    "kf3.save(\"kf3\")"
   ]
  },
  {
   "cell_type": "markdown",
   "metadata": {},
   "source": [
    "<hr style=\"height:5px\">"
   ]
  },
  {
   "cell_type": "markdown",
   "metadata": {},
   "source": [
    "<h2  align=\"center\"> Example 4 (Loading the kDataFrame from disk) </h2>\n",
    "<hr>\n",
    "<h3><b>Description</b></h3>\n",
    "<ol>\n",
    "    <li> Load the kf3 kDataFrame in an new kDataFrame with name kf4</li> \n",
    "    <li>Verify the loading by printing the kmerSize and total size</li>\n",
    "    <li> Save the kDataFrame on disk </li>\n",
    "<ol>"
   ]
  },
  {
   "cell_type": "code",
   "execution_count": 22,
   "metadata": {},
   "outputs": [],
   "source": [
    "kf4 = kp.kDataFrame.load(\"kf3\")"
   ]
  },
  {
   "cell_type": "code",
   "execution_count": 23,
   "metadata": {},
   "outputs": [
    {
     "name": "stdout",
     "output_type": "stream",
     "text": [
      "14481\n",
      "21\n"
     ]
    }
   ],
   "source": [
    "print(kf4.size())\n",
    "print(kf4.getkSize())"
   ]
  },
  {
   "cell_type": "code",
   "execution_count": null,
   "metadata": {},
   "outputs": [],
   "source": []
  },
  {
   "cell_type": "code",
   "execution_count": null,
   "metadata": {},
   "outputs": [],
   "source": []
  }
 ],
 "metadata": {
  "kernelspec": {
   "display_name": "Python 3",
   "language": "python",
   "name": "python3"
  },
  "language_info": {
   "codemirror_mode": {
    "name": "ipython",
    "version": 3
   },
   "file_extension": ".py",
   "mimetype": "text/x-python",
   "name": "python",
   "nbconvert_exporter": "python",
   "pygments_lexer": "ipython3",
   "version": "3.6.7"
  }
 },
 "nbformat": 4,
 "nbformat_minor": 2
}
