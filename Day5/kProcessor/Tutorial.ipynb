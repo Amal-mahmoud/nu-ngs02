{
 "cells": [
  {
   "cell_type": "markdown",
   "metadata": {},
   "source": [
    "<h1 style=\"color:purple\"  align=\"center\"><b><u>kProcessor Tutorial</u></b></h1>"
   ]
  },
  {
   "cell_type": "markdown",
   "metadata": {},
   "source": [
    "### Data Download"
   ]
  },
  {
   "cell_type": "code",
   "execution_count": 1,
   "metadata": {},
   "outputs": [],
   "source": [
    "#!wget https://github.com/drtamermansour/nu-ngs02/raw/master/Day5/kProcessor/data/data.zip\n",
    "#!unzip data.zip\n",
    "#!ls data/"
   ]
  },
  {
   "cell_type": "markdown",
   "metadata": {},
   "source": [
    "### Import kprocessor python package"
   ]
  },
  {
   "cell_type": "code",
   "execution_count": 2,
   "metadata": {},
   "outputs": [],
   "source": [
    "import kProcessor as kp"
   ]
  },
  {
   "cell_type": "markdown",
   "metadata": {},
   "source": [
    "### Import random library to generate random numbers"
   ]
  },
  {
   "cell_type": "code",
   "execution_count": 3,
   "metadata": {},
   "outputs": [],
   "source": [
    "from random import randint"
   ]
  },
  {
   "cell_type": "markdown",
   "metadata": {},
   "source": [
    "<h2 align=\"center\"> <u> Main Classes and Functions </u> </h2>\n",
    "<hr>\n",
    "\n",
    "\n",
    "<h3 style=\"color:green\">1- kDataFrame Object Instantiation</h3>\n",
    "<ul>\n",
    "    <li><b>kp.kDataFrame(kSize): </b>Create an empty kDataFrame with predefined kmerSize</li>\n",
    "</ul>\n",
    "\n",
    "<hr style=\"height:1px;\">\n",
    "\n",
    "<h3 style=\"color:green\">2- kDataFrame filling (From fastq file)</h3>\n",
    "<ul>\n",
    "    <li><b>kp.parseSequences(fastq_file, no_threads, kDataFrame): </b>Parse the fastq and insert the kmers in the kDataFrame with their count (kmer Counting)</li>\n",
    "</ul>\n",
    "\n",
    "<hr style=\"height:1px;\">\n",
    "\n",
    "<h3 style=\"color:green\">3- kDataFrame basic functions</h3>\n",
    "<ul>\n",
    "<li><b>kDataFrame.size(): </b>returns the number of kmers in the kDataFrame</li>\n",
    "<li><b>kDataFrame.max_size(): </b>returns the maximum number of kmers that the kDataframe can hold.</li>\n",
    "<li><b>kDataFrame.save(fileName): </b>Save the kDataFrame on disk.</li>\n",
    "<li><b>kp.kDataFrame.load(): </b>Load the kDataFrame From disk and return kDataFrame object</li>\n",
    "</ul>\n",
    "\n",
    "<hr style=\"height:1px;\">\n",
    "\n",
    "<h3 style=\"color:green\">4- kDataFrame kmer-specific functions</h3>\n",
    "<ul>\n",
    "<li><b>kDataFrame.insert(kmer): </b>Insert a kmer</li>\n",
    "<li><b>kDataFrame.insert(kmer, count): </b>Insert a kmer with it's count</li>\n",
    "<li><b>kDataFrame.setCount(kmer, count): </b>set the kmer count</li>\n",
    "<li><b>kDataFrame.count(kmer): </b>returns the kmer count (number of times that kmer was inserted)</li>\n",
    "<li><b>kDataFrame.erase(kmer): </b>remove a kmer from the kDataFrame</li>\n",
    "</ul>\n",
    "\n",
    "\n",
    "<hr style=\"height:1px;\">\n",
    "\n",
    "<h3 style=\"color:green\"><b>5- kDataFrameIterator Functions</b></h3>\n",
    "<ul>\n",
    "<li><b>kDataFrameIterator.begin(): </b>Return the first position of a kDataFrame object</li>\n",
    "<li><b>kDataFrameIterator.end(): </b>Return the last position of a kDataFrame object</li>\n",
    "<li><b>kDataFrameIterator.next(): </b>Increment the iterator position by one</li>\n",
    "<li><b>kDataFrameIterator.getKmer(): </b>Return the kmer at the current iterator position</li>\n",
    "<li><b>kDataFrameIterator.getKmerCount(): </b>Return the kmer count at the current iterator position</li>\n",
    "<li><b>kDataFrameIterator.setKmerCount(): </b>Set the kmer count at the current iterator position</li>\n",
    "</ul>\n",
    "\n",
    "<hr style=\"height:1px;\">\n",
    "    \n",
    "<h3 style=\"color:green\"><b>6- coloredKDataFrame instantiation & filling</b></h3>\n",
    "<ul>\n",
    "<li><b>kp.index(fastaFile, namesFile , kmerSize): </b>Perform the kmers indexing to the given fasta file with respect to the namesFile and return coloredKDataFrame object</li>\n",
    "</ul>\n",
    "    \n",
    "<hr style=\"height:1px;\">\n",
    " \n",
    "<h3 style=\"color:green\">7- colored kDataFrame functions</h3>\n",
    "<ul>\n",
    "    <li><b>Inherits All functions in the kDataFrame</b></li>\n",
    "    <li><b>colored_kDataFrame.getKmerColor(kmer): </b>returns the color of the kmer</li>\n",
    "    <li><b>colored_kDataFrame.getSamplesIDForColor(color, colorsList): </b>take the colorsList and fill it with all the transcript ids contains that color</li>\n",
    "    <li><b>colored_kDataFrame.getSamplesIDForKmer(kmer, colorsList): </b>take the colorsList and fill it with all the transcript ids contains that kmer</li>\n",
    "    <li><b>colored_kDataFrame.namesMap: </b>unordered_map contains namesMap information {tr_id:tr_name}</li>\n",
    "    <li><b>colored_kDataFrame.namesMapInv: </b>unordered_map contains namesMap information {tr_name:tr_id}</li>\n",
    "    <li><b>colored_kDataFrame.load(fileNamePrefix): </b>load the coloredkDataFrame from disk and returns coloredkDataFrame object</li>\n",
    "    <li><b>colored_kDataFrame.save(fileNamePrefix): </b>save the coloredkDataFrame to disk</li>\n",
    "</ul>"
   ]
  },
  {
   "cell_type": "markdown",
   "metadata": {},
   "source": [
    "<hr style=\"height:2px;\">"
   ]
  },
  {
   "cell_type": "markdown",
   "metadata": {},
   "source": [
    "<h2  align=\"center\"> Example 1 (Create a kDataFrame from a fastq file) </h2>\n",
    "<hr>\n",
    "<h3><b>Description</b></h3>\n",
    "<ol>\n",
    "    <li> Create an empty kDataFrame with kmerSize = 21 </li> \n",
    "    <li> Load a fasta file into a kDataFrame</li>\n",
    "    <li> Save the kDataFrame on disk </li>\n",
    "<ol>"
   ]
  },
  {
   "cell_type": "markdown",
   "metadata": {},
   "source": [
    "### Create an empty kDataFrame"
   ]
  },
  {
   "cell_type": "code",
   "execution_count": 4,
   "metadata": {},
   "outputs": [],
   "source": [
    "kf3 = kp.kDataFrameMQF(21)"
   ]
  },
  {
   "cell_type": "markdown",
   "metadata": {},
   "source": [
    "### Parse the fastq file into the kf3 kDataFrame"
   ]
  },
  {
   "cell_type": "code",
   "execution_count": 5,
   "metadata": {},
   "outputs": [],
   "source": [
    "kp.parseSequences(\"data/test.fastq\", 1, kf3)"
   ]
  },
  {
   "cell_type": "markdown",
   "metadata": {},
   "source": [
    "### Print the kDataFrame3 size and the kmer size used in it"
   ]
  },
  {
   "cell_type": "code",
   "execution_count": 6,
   "metadata": {},
   "outputs": [
    {
     "name": "stdout",
     "output_type": "stream",
     "text": [
      "14481\n",
      "21\n"
     ]
    }
   ],
   "source": [
    "print(kf3.size())\n",
    "print(kf3.getkSize())"
   ]
  },
  {
   "cell_type": "markdown",
   "metadata": {},
   "source": [
    "### Save the kDataFrame on disk with a name \"kf3\""
   ]
  },
  {
   "cell_type": "code",
   "execution_count": 7,
   "metadata": {},
   "outputs": [],
   "source": [
    "kf3.save(\"kf3\")"
   ]
  },
  {
   "cell_type": "markdown",
   "metadata": {},
   "source": [
    "<hr style=\"height:5px\">\n",
    "\n",
    "<h2  align=\"center\"> Example 2 (Loading the kDataFrame from disk) </h2>\n",
    "<hr>\n",
    "<h3><b>Description</b></h3>\n",
    "<ol>\n",
    "    <li> Load the kf3 kDataFrame in an new kDataFrame with name kf4</li> \n",
    "    <li>Verify the loading by printing the kmerSize and total size</li>\n",
    "    <li> Save the kDataFrame on disk </li>\n",
    "<ol>"
   ]
  },
  {
   "cell_type": "code",
   "execution_count": 8,
   "metadata": {},
   "outputs": [],
   "source": [
    "kf4 = kp.kDataFrame.load(\"kf3\")"
   ]
  },
  {
   "cell_type": "code",
   "execution_count": 9,
   "metadata": {},
   "outputs": [
    {
     "name": "stdout",
     "output_type": "stream",
     "text": [
      "14481\n",
      "21\n"
     ]
    }
   ],
   "source": [
    "print(kf4.size())\n",
    "print(kf4.getkSize())"
   ]
  },
  {
   "cell_type": "markdown",
   "metadata": {},
   "source": [
    "<h2  align=\"center\"> Example 3 (kDataFrame Manipulation) <h2>\n",
    "<hr>\n",
    "<h3><b>Description</b></h3>\n",
    "<ol>\n",
    "    <li> Create kDataFrame with kmerSize = 21 </li> \n",
    "    <li> Insert some random kmers with random counts </li>\n",
    "    <li> Query by each kmer and check the count </li>\n",
    "    <li> Insert a pre-exist kmer and check it's count </li>\n",
    "<ol>"
   ]
  },
  {
   "cell_type": "markdown",
   "metadata": {},
   "source": [
    "### Kmers List"
   ]
  },
  {
   "cell_type": "code",
   "execution_count": 10,
   "metadata": {},
   "outputs": [],
   "source": [
    "kmers = [\"CTGACTACTCAGAGCTAGCCT\", \"CGTAACCTATGCTAGCTAGAT\"]"
   ]
  },
  {
   "cell_type": "markdown",
   "metadata": {},
   "source": [
    "### Instantiate an object from the class kDataFrameMQF\n"
   ]
  },
  {
   "cell_type": "code",
   "execution_count": 11,
   "metadata": {},
   "outputs": [],
   "source": [
    "kf = kp.kDataFrameMQF(21) # Empty kDataFrame"
   ]
  },
  {
   "cell_type": "markdown",
   "metadata": {},
   "source": [
    "### Print the size of the kDataFrame"
   ]
  },
  {
   "cell_type": "code",
   "execution_count": 12,
   "metadata": {},
   "outputs": [
    {
     "name": "stdout",
     "output_type": "stream",
     "text": [
      "kf size: 0\n"
     ]
    }
   ],
   "source": [
    "print(\"kf size: %d\" % kf.size())"
   ]
  },
  {
   "cell_type": "markdown",
   "metadata": {},
   "source": [
    "### Insert the first kmer and set count to 1 & the second kmer with count 10 "
   ]
  },
  {
   "cell_type": "code",
   "execution_count": 13,
   "metadata": {},
   "outputs": [
    {
     "name": "stdout",
     "output_type": "stream",
     "text": [
      "Inserting 2 kmers\n"
     ]
    },
    {
     "data": {
      "text/plain": [
       "True"
      ]
     },
     "execution_count": 13,
     "metadata": {},
     "output_type": "execute_result"
    }
   ],
   "source": [
    "print(\"Inserting 2 kmers\")\n",
    "kf.insert(kmers[0], 1)\n",
    "kf.insert(kmers[1], 10)"
   ]
  },
  {
   "cell_type": "markdown",
   "metadata": {},
   "source": [
    "### Print the size of the kDataFrame & counts of kmer1 and kmer2"
   ]
  },
  {
   "cell_type": "code",
   "execution_count": 14,
   "metadata": {
    "scrolled": true
   },
   "outputs": [
    {
     "name": "stdout",
     "output_type": "stream",
     "text": [
      "kf size: 2\n",
      "Kmer1 Count: 1\n",
      "Kmer2 Count: 10\n"
     ]
    }
   ],
   "source": [
    "print(\"kf size: %d\" % kf.size())\n",
    "# Print the first kmer count \n",
    "print(\"Kmer1 Count: %d\" % kf.count(kmers[0]))\n",
    "print(\"Kmer2 Count: %d\" % kf.count(kmers[1]))"
   ]
  },
  {
   "cell_type": "markdown",
   "metadata": {},
   "source": [
    "### Insert a duplicate kmer without count"
   ]
  },
  {
   "cell_type": "code",
   "execution_count": 15,
   "metadata": {},
   "outputs": [
    {
     "name": "stdout",
     "output_type": "stream",
     "text": [
      "[*] Inserting kmer 1 again\n"
     ]
    },
    {
     "data": {
      "text/plain": [
       "True"
      ]
     },
     "execution_count": 15,
     "metadata": {},
     "output_type": "execute_result"
    }
   ],
   "source": [
    "print(\"[*] Inserting kmer 1 again\")\n",
    "kf.insert(kmers[0])"
   ]
  },
  {
   "cell_type": "markdown",
   "metadata": {},
   "source": [
    "### Print the first kmer count again"
   ]
  },
  {
   "cell_type": "code",
   "execution_count": 16,
   "metadata": {
    "scrolled": true
   },
   "outputs": [
    {
     "name": "stdout",
     "output_type": "stream",
     "text": [
      "Kmer1 Count: 2\n"
     ]
    }
   ],
   "source": [
    "print(\"Kmer1 Count: %d\" % kf.count(kmers[0]))"
   ]
  },
  {
   "cell_type": "markdown",
   "metadata": {},
   "source": [
    "### Erase kmer1 from the kDataFrame"
   ]
  },
  {
   "cell_type": "code",
   "execution_count": 17,
   "metadata": {},
   "outputs": [
    {
     "name": "stdout",
     "output_type": "stream",
     "text": [
      "[*] Erasing kmer1\n"
     ]
    },
    {
     "data": {
      "text/plain": [
       "True"
      ]
     },
     "execution_count": 17,
     "metadata": {},
     "output_type": "execute_result"
    }
   ],
   "source": [
    "print(\"[*] Erasing kmer1\")\n",
    "kf.erase(kmers[0])"
   ]
  },
  {
   "cell_type": "markdown",
   "metadata": {},
   "source": [
    "### Print the first kmer count again and the kDataframe Size"
   ]
  },
  {
   "cell_type": "code",
   "execution_count": 18,
   "metadata": {
    "scrolled": true
   },
   "outputs": [
    {
     "name": "stdout",
     "output_type": "stream",
     "text": [
      "Kmer1 Count: 0\n",
      "kf size: 1\n"
     ]
    }
   ],
   "source": [
    "print(\"Kmer1 Count: %d\" % kf.count(kmers[0]))\n",
    "print(\"kf size: %d\" % kf.size())"
   ]
  },
  {
   "cell_type": "markdown",
   "metadata": {},
   "source": [
    "<hr style=\"height:5px\">"
   ]
  },
  {
   "cell_type": "markdown",
   "metadata": {},
   "source": [
    "<h2  align=\"center\"> Example 4 (Itaration on kDataFrame kmers) </h2>\n",
    "<hr>\n",
    "<h3><b>Description</b></h3>\n",
    "<ol>\n",
    "    <li> Create kDataFrame with kmerSize = 21 </li> \n",
    "    <li> Insert some random kmers with random counts </li>\n",
    "    <li> Iterate over kDataFrames kmers and print Kmer and Count </li>\n",
    "    <li> Save the result in dictionary </li>\n",
    "<ol>"
   ]
  },
  {
   "cell_type": "markdown",
   "metadata": {},
   "source": [
    "## Create kmers list with 4 kmers"
   ]
  },
  {
   "cell_type": "code",
   "execution_count": 19,
   "metadata": {},
   "outputs": [],
   "source": [
    "kmers = [\"ATCATACTGATCGATCGATGC\", \"CGTAACCTATGCTAGCTAGAT\", \"CTGACTACTCAGAGCTAGCCT\",\"CAATCGCTGATACGATACGTA\"]"
   ]
  },
  {
   "cell_type": "markdown",
   "metadata": {},
   "source": [
    "## Create an empty kDataFrame"
   ]
  },
  {
   "cell_type": "code",
   "execution_count": 20,
   "metadata": {},
   "outputs": [],
   "source": [
    "kf2 = kp.kDataFrameMQF(21)"
   ]
  },
  {
   "cell_type": "markdown",
   "metadata": {},
   "source": [
    "### Insert all kmers using a for loop"
   ]
  },
  {
   "cell_type": "code",
   "execution_count": 21,
   "metadata": {
    "scrolled": true
   },
   "outputs": [
    {
     "name": "stdout",
     "output_type": "stream",
     "text": [
      "Inserting kmer: ATCATACTGATCGATCGATGC with count 77\n",
      "Inserting kmer: CGTAACCTATGCTAGCTAGAT with count 58\n",
      "Inserting kmer: CTGACTACTCAGAGCTAGCCT with count 32\n",
      "Inserting kmer: CAATCGCTGATACGATACGTA with count 13\n"
     ]
    }
   ],
   "source": [
    "for kmer in kmers:\n",
    "    random_count = randint(1,100) # generate random count between 1 and 100\n",
    "    print(\"Inserting kmer: %s with count %d\" % (kmer, random_count))\n",
    "    kf2.insert(kmer, random_count)"
   ]
  },
  {
   "cell_type": "markdown",
   "metadata": {},
   "source": [
    "### Iterate over all kmers and print their count and save them in a dictionary"
   ]
  },
  {
   "cell_type": "code",
   "execution_count": 22,
   "metadata": {},
   "outputs": [
    {
     "name": "stdout",
     "output_type": "stream",
     "text": [
      "retrieved kmer: CTGACTACTCAGAGCTAGCCT with count: 32\n",
      "retrieved kmer: CGTAACCTATGCTAGCTAGAT with count: 58\n",
      "retrieved kmer: ATCATACTGATCGATCGATGC with count: 77\n",
      "retrieved kmer: CAATCGCTGATACGATACGTA with count: 13\n"
     ]
    }
   ],
   "source": [
    "# Create empty dictionary\n",
    "kf2_data = {}\n",
    "\n",
    "# create iterator with the first position in the kDataFrame\n",
    "it = kf2.begin()\n",
    "\n",
    "while(it != kf2.end()):\n",
    "    \n",
    "    # Get the kmer string\n",
    "    kmer = it.getKmer()\n",
    "    \n",
    "    # Get the kmer count\n",
    "    count = it.getKmerCount()\n",
    "    \n",
    "    # Print the data\n",
    "    print(\"retrieved kmer: %s with count: %d\" % (kmer, count))\n",
    "    \n",
    "    # Save data in a dictionary\n",
    "    kf2_data[kmer] = count\n",
    "    \n",
    "    it.next() # Extremely Important!"
   ]
  },
  {
   "cell_type": "markdown",
   "metadata": {},
   "source": [
    "### Dump the dictionary data to a file"
   ]
  },
  {
   "cell_type": "code",
   "execution_count": 23,
   "metadata": {},
   "outputs": [],
   "source": [
    "with open(\"kf2_data.tsv\", 'w') as kf2:\n",
    "    kf2.write(\"kmer\\tcount\\n\")\n",
    "    for kmer,count in kf2_data.items():\n",
    "        kf2.write(\"%s\\t%d\\n\" % (kmer, count))"
   ]
  },
  {
   "cell_type": "markdown",
   "metadata": {},
   "source": [
    "<hr style=\"height:5px\">\n",
    "\n",
    "<h2  align=\"center\"> Example 5 (Kmers Indexing) </h2>\n",
    "<hr>\n",
    "<h3><b>Description</b></h3>\n",
    "<ol>\n",
    "    <li>Index fasta file using index() function and save the coloredKDataFrame in ckf1</li> \n",
    "    <li>Load the namesMap as a python dictionary and print it</li>\n",
    "    <li>Load the inverted namesMap as a python dictionary and print it</li>\n",
    "    <li>Query by kmer to get its color</li>\n",
    "    <li> Save the kDataFrame on disk </li>\n",
    "<ol>"
   ]
  },
  {
   "cell_type": "code",
   "execution_count": 24,
   "metadata": {},
   "outputs": [],
   "source": [
    "ckf1 = kp.index(\"data/min_test_sample.fa\",\"data/min_test_sample.fa.names\", 31)"
   ]
  },
  {
   "cell_type": "code",
   "execution_count": 25,
   "metadata": {
    "scrolled": true
   },
   "outputs": [
    {
     "name": "stdout",
     "output_type": "stream",
     "text": [
      "{1: 'ENST00000641515.2', 31: 'ENST00000624697.3', 20: 'ENST00000622660.1', 10: 'ENST00000622503.4', 15: 'ENST00000620200.4', 13: 'ENST00000618779.4', 11: 'ENST00000618323.4', 9: 'ENST00000618181.4', 8: 'ENST00000617307.4', 14: 'ENST00000616125.4', 12: 'ENST00000616016.4', 25: 'ENST00000491024.1', 30: 'ENST00000484667.2', 21: 'ENST00000466300.1', 17: 'ENST00000455979.1', 19: 'ENST00000338591.7', 2: 'ENST00000335137.4', 16: 'ENST00000341065.8', 29: 'ENST00000304952.10', 4: 'ENST00000332831.4', 18: 'ENST00000327044.6', 26: 'ENST00000341290.6', 7: 'ENST00000342066.7', 24: 'ENST00000379407.7', 23: 'ENST00000379409.6', 6: 'ENST00000437963.5', 22: 'ENST00000379410.7', 5: 'ENST00000420190.6', 3: 'ENST00000426406.3', 28: 'ENST00000428771.6', 27: 'ENST00000433179.3'}\n",
      "-----------------\n",
      "{'ENST00000624697.3': 31, 'ENST00000622660.1': 20, 'ENST00000622503.4': 10, 'ENST00000620200.4': 15, 'ENST00000618323.4': 11, 'ENST00000617307.4': 8, 'ENST00000616125.4': 14, 'ENST00000491024.1': 25, 'ENST00000484667.2': 30, 'ENST00000455979.1': 17, 'ENST00000341065.8': 16, 'ENST00000379409.6': 23, 'ENST00000641515.2': 1, 'ENST00000466300.1': 21, 'ENST00000332831.4': 4, 'ENST00000618779.4': 13, 'ENST00000338591.7': 19, 'ENST00000342066.7': 7, 'ENST00000618181.4': 9, 'ENST00000327044.6': 18, 'ENST00000616016.4': 12, 'ENST00000341290.6': 26, 'ENST00000379407.7': 24, 'ENST00000426406.3': 3, 'ENST00000379410.7': 22, 'ENST00000433179.3': 27, 'ENST00000304952.10': 29, 'ENST00000437963.5': 6, 'ENST00000335137.4': 2, 'ENST00000420190.6': 5, 'ENST00000428771.6': 28}\n"
     ]
    }
   ],
   "source": [
    "namesMap = dict(ckf1.namesMap)\n",
    "inverted_namesMap = dict(ckf1.namesMapInv)\n",
    "\n",
    "print(namesMap)\n",
    "print(\"-----------------\")\n",
    "print(inverted_namesMap)"
   ]
  },
  {
   "cell_type": "markdown",
   "metadata": {},
   "source": [
    "<h2>namesMap as an unordered_map <span style=\"color:red\"> <span style=\"color:green\">[Optional]</span> </h2>"
   ]
  },
  {
   "cell_type": "markdown",
   "metadata": {},
   "source": [
    "### Iterate over the namesMap <span style=\"color:green\">[Optional]</span>"
   ]
  },
  {
   "cell_type": "code",
   "execution_count": 26,
   "metadata": {
    "scrolled": true
   },
   "outputs": [
    {
     "name": "stdout",
     "output_type": "stream",
     "text": [
      "(1, 'ENST00000641515.2')\n",
      "(31, 'ENST00000624697.3')\n",
      "(20, 'ENST00000622660.1')\n",
      "(10, 'ENST00000622503.4')\n",
      "(15, 'ENST00000620200.4')\n",
      "(13, 'ENST00000618779.4')\n",
      "(11, 'ENST00000618323.4')\n",
      "(9, 'ENST00000618181.4')\n",
      "(8, 'ENST00000617307.4')\n",
      "(14, 'ENST00000616125.4')\n",
      "(12, 'ENST00000616016.4')\n",
      "(25, 'ENST00000491024.1')\n",
      "(30, 'ENST00000484667.2')\n",
      "(21, 'ENST00000466300.1')\n",
      "(17, 'ENST00000455979.1')\n",
      "(19, 'ENST00000338591.7')\n",
      "(2, 'ENST00000335137.4')\n",
      "(16, 'ENST00000341065.8')\n",
      "(29, 'ENST00000304952.10')\n",
      "(4, 'ENST00000332831.4')\n",
      "(18, 'ENST00000327044.6')\n",
      "(26, 'ENST00000341290.6')\n",
      "(7, 'ENST00000342066.7')\n",
      "(24, 'ENST00000379407.7')\n",
      "(23, 'ENST00000379409.6')\n",
      "(6, 'ENST00000437963.5')\n",
      "(22, 'ENST00000379410.7')\n",
      "(5, 'ENST00000420190.6')\n",
      "(3, 'ENST00000426406.3')\n",
      "(28, 'ENST00000428771.6')\n",
      "(27, 'ENST00000433179.3')\n"
     ]
    }
   ],
   "source": [
    "# Get the namesMap\n",
    "c_namesMap = ckf1.namesMap\n",
    "\n",
    "# create map iterator\n",
    "c_it = c_namesMap.begin()\n",
    "\n",
    "while(c_it != c_namesMap.end()):\n",
    "    \n",
    "    # Get the current value (python tuple) and print it\n",
    "    curr_val = c_it.value()\n",
    "    print(curr_val)\n",
    "    \n",
    "    # Increment the iterator\n",
    "    c_it.next() # Extremely Important"
   ]
  },
  {
   "cell_type": "markdown",
   "metadata": {},
   "source": [
    "### Find a single element <span style=\"color:green\">[Optional]</span>"
   ]
  },
  {
   "cell_type": "code",
   "execution_count": 27,
   "metadata": {},
   "outputs": [
    {
     "name": "stdout",
     "output_type": "stream",
     "text": [
      "(1, 'ENST00000641515.2')\n",
      "ENST00000641515.2\n"
     ]
    }
   ],
   "source": [
    "# Search for transcript with ID = 1\n",
    "id_1 = c_namesMap.find(1).value()\n",
    "print(id_1)\n",
    "\n",
    "# Search using the dictionary\n",
    "print(namesMap[1])"
   ]
  },
  {
   "cell_type": "markdown",
   "metadata": {},
   "source": [
    "### Get a kmer color from the coloredKDataFrame"
   ]
  },
  {
   "cell_type": "code",
   "execution_count": 28,
   "metadata": {},
   "outputs": [
    {
     "name": "stdout",
     "output_type": "stream",
     "text": [
      "68\n"
     ]
    }
   ],
   "source": [
    "kmer = \"TCGAAGCTGGAGAAGGCGGACATCCTGGAGA\"[:31]\n",
    "color = ckf1.getKmerColor(kmer)\n",
    "print(color)"
   ]
  },
  {
   "cell_type": "markdown",
   "metadata": {},
   "source": [
    "### Get all the transcripts Ids associated to this kmer"
   ]
  },
  {
   "cell_type": "code",
   "execution_count": 29,
   "metadata": {},
   "outputs": [
    {
     "name": "stdout",
     "output_type": "stream",
     "text": [
      "[28, 29, 30]\n"
     ]
    }
   ],
   "source": [
    "#1 Create an empty colorsList\n",
    "colors_list = kp.colorsList()\n",
    "\n",
    "#2 Fill it with the transcript IDs\n",
    "ckf1.getSamplesIDForColor(68, colors_list)\n",
    "\n",
    "#3 Print the colorsList as a list\n",
    "print(list(colors_list))"
   ]
  },
  {
   "cell_type": "markdown",
   "metadata": {},
   "source": [
    "### Get all transcript names of that color"
   ]
  },
  {
   "cell_type": "code",
   "execution_count": 30,
   "metadata": {},
   "outputs": [
    {
     "name": "stdout",
     "output_type": "stream",
     "text": [
      "(28, 'ENST00000428771.6')\n",
      "(29, 'ENST00000304952.10')\n",
      "(30, 'ENST00000484667.2')\n"
     ]
    }
   ],
   "source": [
    "for color in colors_list:\n",
    "    print(c_namesMap.find(color).value())"
   ]
  },
  {
   "cell_type": "markdown",
   "metadata": {},
   "source": [
    "### Get all transcript names of that color using the namesMap dictionary"
   ]
  },
  {
   "cell_type": "code",
   "execution_count": 31,
   "metadata": {},
   "outputs": [
    {
     "name": "stdout",
     "output_type": "stream",
     "text": [
      "ENST00000428771.6\n",
      "ENST00000304952.10\n",
      "ENST00000484667.2\n"
     ]
    }
   ],
   "source": [
    "for color in colors_list:\n",
    "    print(namesMap[color])"
   ]
  },
  {
   "cell_type": "markdown",
   "metadata": {},
   "source": [
    "### Save the ckf1 to the disk as ckf1"
   ]
  },
  {
   "cell_type": "code",
   "execution_count": 32,
   "metadata": {},
   "outputs": [],
   "source": [
    "ckf1.save(\"ckf1\")"
   ]
  },
  {
   "cell_type": "markdown",
   "metadata": {},
   "source": [
    "<hr style=\"height:5px\">\n",
    "\n",
    "<h2  align=\"center\"> Example 6 (Loading ckf1 as kDataFrame and iterate over kmers & colors) </h2>\n",
    "<hr>\n",
    "<h3><b>Description</b></h3>\n",
    "<ol>\n",
    "    <li>Load the ckf1 coloredKDataFrame to kf5</li> \n",
    "    <li>Iterate over all kmers and get kmer:color \"color now instead of count\" [also can be loaded as coloredKDataframe]</li>\n",
    "    <li>Save the data to dictionary</li>\n",
    "<ol>"
   ]
  },
  {
   "cell_type": "markdown",
   "metadata": {},
   "source": [
    "### Loading ckf1 as kDataFrame"
   ]
  },
  {
   "cell_type": "code",
   "execution_count": 33,
   "metadata": {},
   "outputs": [],
   "source": [
    "kf5 = kp.kDataFrame.load(\"ckf1\")"
   ]
  },
  {
   "cell_type": "markdown",
   "metadata": {},
   "source": [
    "### To load as coloredkDataFrame <span style=\"color:brown\"> (will not be used in the next steps) </span>"
   ]
  },
  {
   "cell_type": "code",
   "execution_count": 34,
   "metadata": {},
   "outputs": [],
   "source": [
    "ckf2 = kp.colored_kDataFrame.load(\"ckf1\")"
   ]
  },
  {
   "cell_type": "markdown",
   "metadata": {},
   "source": [
    "### Create an Iterator"
   ]
  },
  {
   "cell_type": "code",
   "execution_count": 35,
   "metadata": {},
   "outputs": [],
   "source": [
    "kf5_it = kf5.begin()"
   ]
  },
  {
   "cell_type": "markdown",
   "metadata": {},
   "source": [
    "### Iterate and print the first 5 kmers with their colors"
   ]
  },
  {
   "cell_type": "code",
   "execution_count": 36,
   "metadata": {},
   "outputs": [
    {
     "name": "stdout",
     "output_type": "stream",
     "text": [
      "Kmer  : GGGCGCACCATGGCCGCAGACACGCCGGGGA\n",
      "Color : 67\n",
      "Color2: 67\n",
      "-------------------------------\n",
      "Kmer  : GTACTCGGCCGGCGGCTATGACGGGGCCTCC\n",
      "Color : 59\n",
      "Color2: 59\n",
      "-------------------------------\n",
      "Kmer  : CTGCAGCCGCCGCCAGAGGGTTTCCTTCGGC\n",
      "Color : 18\n",
      "Color2: 18\n",
      "-------------------------------\n",
      "Kmer  : GGCACAGGAGAGCAGCCCTTGTCCCCCACGA\n",
      "Color : 46\n",
      "Color2: 46\n",
      "-------------------------------\n",
      "Kmer  : TGCCCTGTACGTGGCAGGGGGCAACGACGGC\n",
      "Color : 59\n",
      "Color2: 59\n",
      "-------------------------------\n"
     ]
    }
   ],
   "source": [
    "for i in range(5):\n",
    "    \n",
    "    # Get the kmer\n",
    "    kmer = kf5_it.getKmer()\n",
    "    \n",
    "    # Get the color (stored as count)\n",
    "    color = kf5_it.getKmerCount()\n",
    "    \n",
    "    # Verify by querying the kmer on the colored kDataFrame\n",
    "    \n",
    "    color2 = ckf1.getKmerColor(kmer)\n",
    "    \n",
    "    print(\"Kmer  : %s\" % kmer)\n",
    "    print(\"Color : %d\" % color)\n",
    "    print(\"Color2: %d\" % color2)\n",
    "    print(\"-------------------------------\")\n",
    "    \n",
    "    kf5_it.next() # Extremely Important !"
   ]
  },
  {
   "cell_type": "markdown",
   "metadata": {},
   "source": [
    "<hr style=\"height:3px;\">"
   ]
  }
 ],
 "metadata": {
  "kernelspec": {
   "display_name": "Python 3",
   "language": "python",
   "name": "python3"
  },
  "language_info": {
   "codemirror_mode": {
    "name": "ipython",
    "version": 3
   },
   "file_extension": ".py",
   "mimetype": "text/x-python",
   "name": "python",
   "nbconvert_exporter": "python",
   "pygments_lexer": "ipython3",
   "version": "3.6.7"
  }
 },
 "nbformat": 4,
 "nbformat_minor": 2
}
