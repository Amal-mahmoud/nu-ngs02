{
 "cells": [
  {
   "cell_type": "markdown",
   "metadata": {},
   "source": [
    "<h1 style=\"color:orange\"  align=\"center\"><b><u>OrthoDB Tutorial</u></b></h1>"
   ]
  },
  {
   "cell_type": "markdown",
   "metadata": {},
   "source": [
    "## Imports"
   ]
  },
  {
   "cell_type": "code",
   "execution_count": 1,
   "metadata": {},
   "outputs": [],
   "source": [
    "import json\n",
    "import requests"
   ]
  },
  {
   "cell_type": "markdown",
   "metadata": {},
   "source": [
    "### Send request and convert the response to dictionary"
   ]
  },
  {
   "cell_type": "code",
   "execution_count": 2,
   "metadata": {},
   "outputs": [],
   "source": [
    "def api_send(request_url):\n",
    "    response = requests.get(request_url)\n",
    "    \n",
    "    try:\n",
    "        return json.loads(response.text)\n",
    "    except ValueError:\n",
    "        return response.text\n",
    "    "
   ]
  },
  {
   "cell_type": "markdown",
   "metadata": {},
   "source": [
    "### Handy function to construct requests to the API"
   ]
  },
  {
   "cell_type": "code",
   "execution_count": 3,
   "metadata": {},
   "outputs": [],
   "source": [
    "def create_request(cmd, arguments):\n",
    "    known_commands = [\"search\", \"blast\",\"tree\",\"group\",\"orthologs\",\"ogdetails\",\"siblings\",\"fasta\",\"tab\"] \n",
    "    \n",
    "    if cmd not in known_commands:\n",
    "        print(\"passed unknown command\")\n",
    "        return None\n",
    "    \n",
    "    if type(arguments) is not dict:\n",
    "        print(\"passed arguments is of type {}, must be a dict\".format(type(arguments)))\n",
    "        return None\n",
    "    \n",
    "    request_url = 'http://www.orthodb.org/{}?'.format(cmd)\n",
    "    \n",
    "    args = \"\"\n",
    "\n",
    "    for arg, values in arguments.items():\n",
    "        values = map(str, values) # Double checking that all variables are strings\n",
    "        args += arg + \"=\" + \",\".join(values) + \"&\"\n",
    "        request_url += args\n",
    "        args = \"\"\n",
    "    \n",
    "    if request_url[-1] == \"&\":\n",
    "        request_url = request_url[:-1]\n",
    "    \n",
    "    \n",
    "    return(request_url)"
   ]
  },
  {
   "cell_type": "markdown",
   "metadata": {},
   "source": [
    "### Example 1 | Search"
   ]
  },
  {
   "cell_type": "markdown",
   "metadata": {},
   "source": [
    "#### dictionary of params"
   ]
  },
  {
   "cell_type": "code",
   "execution_count": 4,
   "metadata": {},
   "outputs": [],
   "source": [
    "example1 = {\"query\" : [\"p450\"], \"limit\" : [2], \"level\": [33208], \"singlecopy\":[0.8]}"
   ]
  },
  {
   "cell_type": "markdown",
   "metadata": {},
   "source": [
    "#### construct request url"
   ]
  },
  {
   "cell_type": "code",
   "execution_count": 5,
   "metadata": {},
   "outputs": [
    {
     "name": "stdout",
     "output_type": "stream",
     "text": [
      "http://www.orthodb.org/search?query=p450&limit=2&level=33208&singlecopy=0.8\n"
     ]
    }
   ],
   "source": [
    "url = create_request(\"search\",example1)\n",
    "print(url)"
   ]
  },
  {
   "cell_type": "markdown",
   "metadata": {},
   "source": [
    "#### make an API request and print the response"
   ]
  },
  {
   "cell_type": "code",
   "execution_count": 6,
   "metadata": {},
   "outputs": [
    {
     "name": "stdout",
     "output_type": "stream",
     "text": [
      "{'status': 'ok', 'message': None, 'data': ['101276at33208', '104147at33208'], 'count': 345, 'skip': 0, 'limit': 2, 'query': 'p450', 'level': 33208, 'url': 'https://www.orthodb.org//search?query=p450&limit=2&level=33208&singlecopy=0.8', 'universal': None, 'singlecopy': 80, 'inclusive': 1}\n"
     ]
    }
   ],
   "source": [
    "response = api_send(url)\n",
    "print(response)"
   ]
  },
  {
   "cell_type": "markdown",
   "metadata": {},
   "source": [
    "---"
   ]
  },
  {
   "cell_type": "markdown",
   "metadata": {},
   "source": [
    "## Example 7 | tab"
   ]
  },
  {
   "cell_type": "code",
   "execution_count": 7,
   "metadata": {},
   "outputs": [],
   "source": [
    "example7 = {\"id\":[\"716at7742\"], \"species\": [\"9606_0\",\"9544_0\"], \"long\":[0]}"
   ]
  },
  {
   "cell_type": "code",
   "execution_count": 8,
   "metadata": {},
   "outputs": [
    {
     "name": "stdout",
     "output_type": "stream",
     "text": [
      "pub_og_id\tog_name\tlevel_taxid\torganism_taxid\torganism_name\tint_prot_id\tpub_gene_id\tdescription\n",
      "716at7742\tdynein heavy chain 8, axonemal\t7742\t9544_0\tMacaca mulatta\t9544_0:00146d\tDNAH8\tLOW QUALITY PROTEIN: dynein heavy chain 8, axonemal\n",
      "716at7742\tdynein heavy chain 8, axonemal\t7742\t9544_0\tMacaca mulatta\t9544_0:001b78\tDNAH5\tdynein heavy chain 5, axonemal\n",
      "716at7742\tdynein heavy chain 8, axonemal\t7742\t9606_0\tHomo sapiens\t9606_0:0017fc\tDNAH5\tDynein heavy chain 5, axonemal\n",
      "716at7742\tdynein heavy chain 8, axonemal\t7742\t9606_0\tHomo sapiens\t9606_0:0019b4\tDNAH8\tDynein heavy chain 8, axonemal\n",
      "\n"
     ]
    }
   ],
   "source": [
    "url = create_request(\"tab\", example7)\n",
    "response = api_send(url)\n",
    "print(response)"
   ]
  },
  {
   "cell_type": "markdown",
   "metadata": {},
   "source": [
    "---"
   ]
  },
  {
   "cell_type": "markdown",
   "metadata": {},
   "source": [
    "## Example \"Extract hemoglobin ortholog in mouse to human\""
   ]
  },
  {
   "cell_type": "markdown",
   "metadata": {},
   "source": [
    "#### https://www.ncbi.nlm.nih.gov/gene/3043\n",
    "#### Hemoglobin NCBI ID : 3043\n",
    "#### Human Tax ID: 9606\n",
    "#### Monkey Tax ID: 9544\n",
    "#### Primates Tax Level ID: 9443 "
   ]
  },
  {
   "cell_type": "markdown",
   "metadata": {},
   "source": [
    "### Perform an API request"
   ]
  },
  {
   "cell_type": "code",
   "execution_count": 9,
   "metadata": {},
   "outputs": [
    {
     "name": "stdout",
     "output_type": "stream",
     "text": [
      "{'status': 'ok', 'message': None, 'data': ['36039at9443', '46208at9443'], 'count': 2, 'skip': 0, 'limit': 1000, 'query': '3043', 'level': 9443, 'url': 'https://www.orthodb.org//search?query=3043&species=9606_0,9544_0&level=9443', 'universal': None, 'singlecopy': None, 'inclusive': 1}\n"
     ]
    }
   ],
   "source": [
    "params = {\"query\":[3043], \"species\":[\"9606_0\",\"9544_0\"], \"level\":[9443]}\n",
    "url = create_request(\"search\", params)\n",
    "response = api_send(url)\n",
    "print(response)"
   ]
  },
  {
   "cell_type": "markdown",
   "metadata": {},
   "source": [
    "### Extract the orthologous groups IDs"
   ]
  },
  {
   "cell_type": "code",
   "execution_count": 10,
   "metadata": {},
   "outputs": [
    {
     "name": "stdout",
     "output_type": "stream",
     "text": [
      "['36039at9443', '46208at9443']\n"
     ]
    }
   ],
   "source": [
    "ogs = response[\"data\"]\n",
    "print(ogs)"
   ]
  },
  {
   "cell_type": "code",
   "execution_count": 11,
   "metadata": {},
   "outputs": [],
   "source": [
    "complete_response = \"\"\n",
    "for OG in ogs:\n",
    "    params = {\"id\":[OG], \"level\":[9443], \"species\":[\"9606_0\",\"9544_0\"]}\n",
    "    url = create_request(\"tab\", params)\n",
    "    response = api_send(url)\n",
    "    complete_response += response"
   ]
  },
  {
   "cell_type": "code",
   "execution_count": 12,
   "metadata": {},
   "outputs": [
    {
     "name": "stdout",
     "output_type": "stream",
     "text": [
      "pub_og_id\tog_name\tlevel_taxid\torganism_taxid\torganism_name\tint_prot_id\tpub_gene_id\tdescription\n",
      "36039at9443\tProteasome assembly chaperone 1\t9443\t9544_0\tMacaca mulatta\t9544_0:000ccd\tPSMG1\tProteasome assembly chaperone 1\n",
      "36039at9443\tProteasome assembly chaperone 1\t9443\t9606_0\tHomo sapiens\t9606_0:004d6e\tPSMG1\tProteasome assembly chaperone 1\n",
      "pub_og_id\tog_name\tlevel_taxid\torganism_taxid\torganism_name\tint_prot_id\tpub_gene_id\tdescription\n",
      "46208at9443\themoglobin subunit beta\t9443\t9544_0\tMacaca mulatta\t9544_0:0037dd\tC6KGT1_MACMU\tBeta hemoglobin\n",
      "46208at9443\themoglobin subunit beta\t9443\t9544_0\tMacaca mulatta\t9544_0:0038e5\tLOC715607\tLOW QUALITY PROTEIN: hemoglobin subunit delta-like\n",
      "46208at9443\themoglobin subunit beta\t9443\t9606_0\tHomo sapiens\t9606_0:002b68\tHBB\tBeta-globin\n",
      "46208at9443\themoglobin subunit beta\t9443\t9606_0\tHomo sapiens\t9606_0:002ffa\tHBD\tDelta globin\n",
      "\n"
     ]
    }
   ],
   "source": [
    "print(complete_response)"
   ]
  },
  {
   "cell_type": "markdown",
   "metadata": {},
   "source": [
    "## OR: Get all the ortologs in the given groups"
   ]
  },
  {
   "cell_type": "code",
   "execution_count": 13,
   "metadata": {},
   "outputs": [
    {
     "name": "stdout",
     "output_type": "stream",
     "text": [
      "[{'status': 'ok', 'message': None, 'data': [{'organism': {'description': 'rhesus macaque;rhesus macaques;rhesus monkeys', 'param': 'species in Primates', 'id': '9544_0', 'name': 'Macaca mulatta', 'type': 'taxonomy'}, 'species_statistics': {'in_clusters_count': 142105, 'genes_count': 20999, 'mapping_type': 'C'}, 'genes': [{'gene_id': {'id': 'PSMG1', 'param': '9544_0:000ccd'}, 'exons': '8', 'interpro': [{'description': 'Proteasome assembly chaperone 1', 'param': '1..287', 'id': 'IPR016565', 'type': 'interpro'}], 'aas': '288', 'how_much_more_info': 2, 'description': 'Proteasome assembly chaperone 1', 'uniprot': {'id': 'G7MMS2', 'name': 'Proteasome assembly chaperone 1', 'type': 'uniprot'}, 'more_info': True}]}, {'organism': {'description': 'man', 'param': 'species in Primates', 'id': '9606_0', 'name': 'Homo sapiens', 'type': 'taxonomy'}, 'species_statistics': {'in_clusters_count': 156629, 'genes_count': 21416, 'mapping_type': 'C'}, 'genes': [{'gene_id': {'id': 'PSMG1', 'param': '9606_0:004d6e'}, 'exons': '14', 'interpro': [{'description': 'Proteasome assembly chaperone 1', 'param': '1..287', 'id': 'IPR016565', 'type': 'interpro'}], 'aas': '288', 'how_much_more_info': 3, 'description': 'Proteasome assembly chaperone 1', 'uniprot': {'id': 'O95456', 'name': 'Proteasome assembly chaperone 1', 'type': 'uniprot'}, 'more_info': True}]}], 'url': 'https://www.orthodb.org//orthologs?id=36039at9443&species=9606_0,9544_0'}, {'status': 'ok', 'message': None, 'data': [{'organism': {'description': 'rhesus macaque;rhesus macaques;rhesus monkeys', 'param': 'species in Primates', 'id': '9544_0', 'name': 'Macaca mulatta', 'type': 'taxonomy'}, 'species_statistics': {'in_clusters_count': 142105, 'genes_count': 20999, 'mapping_type': 'C'}, 'genes': [{'gene_id': {'id': 'C6KGT1_MACMU', 'param': '9544_0:0037dd'}, 'exons': '3', 'interpro': [{'description': 'Globin-like superfamily', 'param': '2..147', 'id': 'IPR009050', 'type': 'interpro'}, {'description': 'Globin', 'param': '2..112', 'id': 'IPR000971', 'type': 'interpro'}, {'description': 'Globin/Protoglobin', 'param': '2..147', 'id': 'IPR012292', 'type': 'interpro'}, {'description': 'Haemoglobin, beta-type', 'param': '7..46', 'id': 'IPR002337', 'type': 'interpro'}], 'aas': '147', 'how_much_more_info': 2, 'description': 'Beta hemoglobin', 'uniprot': {'id': 'C6KGT1', 'name': 'Beta hemoglobin', 'type': 'uniprot'}, 'more_info': True}, {'gene_id': {'id': 'LOC715607', 'param': '9544_0:0038e5'}, 'exons': '11', 'interpro': [{'description': 'Globin-like superfamily', 'param': '2..147', 'id': 'IPR009050', 'type': 'interpro'}, {'description': 'Globin/Protoglobin', 'param': '2..147', 'id': 'IPR012292', 'type': 'interpro'}, {'description': 'Globin', 'param': '2..112', 'id': 'IPR000971', 'type': 'interpro'}, {'description': 'Haemoglobin, beta-type', 'param': '7..46', 'id': 'IPR002337', 'type': 'interpro'}], 'aas': '147', 'description': 'LOW QUALITY PROTEIN: hemoglobin subunit delta-like', 'more_info': True, 'how_much_more_info': 2}]}, {'organism': {'description': 'man', 'param': 'species in Primates', 'id': '9606_0', 'name': 'Homo sapiens', 'type': 'taxonomy'}, 'species_statistics': {'in_clusters_count': 156629, 'genes_count': 21416, 'mapping_type': 'C'}, 'genes': [{'gene_id': {'id': 'HBB', 'param': '9606_0:002b68'}, 'exons': '14', 'interpro': [{'description': 'Globin', 'param': '2..112', 'id': 'IPR000971', 'type': 'interpro'}, {'description': 'Globin-like superfamily', 'param': '2..147', 'id': 'IPR009050', 'type': 'interpro'}, {'description': 'Globin/Protoglobin', 'param': '2..147', 'id': 'IPR012292', 'type': 'interpro'}, {'description': 'Haemoglobin, beta-type', 'param': '7..46', 'id': 'IPR002337', 'type': 'interpro'}], 'aas': '147', 'how_much_more_info': 5, 'description': 'Beta-globin', 'uniprot': {'id': 'D9YZU5', 'name': 'Beta-globin', 'type': 'uniprot'}, 'more_info': True}, {'gene_id': {'id': 'HBD', 'param': '9606_0:002ffa'}, 'exons': '11', 'interpro': [{'description': 'Globin', 'param': '2..112', 'id': 'IPR000971', 'type': 'interpro'}, {'description': 'Globin/Protoglobin', 'param': '2..147', 'id': 'IPR012292', 'type': 'interpro'}, {'description': 'Globin-like superfamily', 'param': '2..147', 'id': 'IPR009050', 'type': 'interpro'}, {'description': 'Haemoglobin, beta-type', 'param': '7..46', 'id': 'IPR002337', 'type': 'interpro'}], 'aas': '147', 'how_much_more_info': 3, 'description': 'Delta globin', 'uniprot': {'id': 'A0N071', 'name': 'Delta globin', 'type': 'uniprot'}, 'more_info': True}]}], 'url': 'https://www.orthodb.org//orthologs?id=46208at9443&species=9606_0,9544_0'}]\n"
     ]
    }
   ],
   "source": [
    "complete_response = []\n",
    "for OG in ogs:\n",
    "    url = create_request(\"orthologs\", {\"id\":[OG], \"species\":[\"9606_0\",\"9544_0\"]})\n",
    "    response = api_send(url)\n",
    "    complete_response.append(response)\n",
    "\n",
    "print(complete_response)"
   ]
  },
  {
   "cell_type": "markdown",
   "metadata": {},
   "source": [
    "### Get all the orthologous gene IDs"
   ]
  },
  {
   "cell_type": "code",
   "execution_count": 14,
   "metadata": {},
   "outputs": [
    {
     "name": "stdout",
     "output_type": "stream",
     "text": [
      "9544_0:000ccd\n",
      "9606_0:004d6e\n",
      "9544_0:0037dd\n",
      "9544_0:0038e5\n",
      "9606_0:002b68\n",
      "9606_0:002ffa\n"
     ]
    }
   ],
   "source": [
    "for response in complete_response:\n",
    "    for organism in response[\"data\"]:\n",
    "        for gene in organism[\"genes\"]:\n",
    "            print(gene[\"gene_id\"][\"param\"])"
   ]
  },
  {
   "cell_type": "markdown",
   "metadata": {},
   "source": [
    "## Practice\n",
    "### Extract EMBL gene ID from the previous gene IDs"
   ]
  },
  {
   "cell_type": "code",
   "execution_count": null,
   "metadata": {},
   "outputs": [],
   "source": []
  },
  {
   "cell_type": "code",
   "execution_count": null,
   "metadata": {},
   "outputs": [],
   "source": []
  },
  {
   "cell_type": "code",
   "execution_count": null,
   "metadata": {},
   "outputs": [],
   "source": []
  },
  {
   "cell_type": "code",
   "execution_count": null,
   "metadata": {},
   "outputs": [],
   "source": []
  }
 ],
 "metadata": {
  "kernelspec": {
   "display_name": "Python 3",
   "language": "python",
   "name": "python3"
  },
  "language_info": {
   "codemirror_mode": {
    "name": "ipython",
    "version": 3
   },
   "file_extension": ".py",
   "mimetype": "text/x-python",
   "name": "python",
   "nbconvert_exporter": "python",
   "pygments_lexer": "ipython3",
   "version": "3.6.7"
  }
 },
 "nbformat": 4,
 "nbformat_minor": 2
}
